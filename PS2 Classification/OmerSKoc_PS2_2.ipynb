{
 "cells": [
  {
   "cell_type": "markdown",
   "id": "181fe757",
   "metadata": {},
   "source": [
    "##  Programming Exercise: Logistic Regression"
   ]
  },
  {
   "cell_type": "markdown",
   "id": "aa123a1a",
   "metadata": {},
   "source": [
    "### DS 5220 - Omer Seyfeddin Koc"
   ]
  },
  {
   "cell_type": "markdown",
   "id": "ea0e954c",
   "metadata": {},
   "source": [
    "In this exercise, you will build a logistic regression model to predict whether a student gets admitted into a university. \n",
    "\n",
    "Suppose that you are the administrator of a university department and you want to determine each applicant’s chance of admission based on their results on two exams. You have historical data from previous applicants that you can use as a training set for logistic regression. For each training example, you have the applicant’s scores on two exams and the admissions decision. Your task is to build a classification model that estimates an applicant’s probability of admission based the scores from those two exams."
   ]
  },
  {
   "cell_type": "markdown",
   "id": "8f0ac360",
   "metadata": {},
   "source": [
    "### 1. Loading the Data"
   ]
  },
  {
   "cell_type": "code",
   "execution_count": 1,
   "id": "f6448980",
   "metadata": {},
   "outputs": [],
   "source": [
    "# Import required library\n",
    "import numpy as np\n",
    "import pandas as pd\n",
    "import matplotlib.pyplot as plt"
   ]
  },
  {
   "cell_type": "code",
   "execution_count": 2,
   "id": "a125655b",
   "metadata": {},
   "outputs": [
    {
     "data": {
      "text/html": [
       "<div>\n",
       "<style scoped>\n",
       "    .dataframe tbody tr th:only-of-type {\n",
       "        vertical-align: middle;\n",
       "    }\n",
       "\n",
       "    .dataframe tbody tr th {\n",
       "        vertical-align: top;\n",
       "    }\n",
       "\n",
       "    .dataframe thead th {\n",
       "        text-align: right;\n",
       "    }\n",
       "</style>\n",
       "<table border=\"1\" class=\"dataframe\">\n",
       "  <thead>\n",
       "    <tr style=\"text-align: right;\">\n",
       "      <th></th>\n",
       "      <th>exam_score_1</th>\n",
       "      <th>exam_score_2</th>\n",
       "      <th>admitted</th>\n",
       "    </tr>\n",
       "  </thead>\n",
       "  <tbody>\n",
       "    <tr>\n",
       "      <th>0</th>\n",
       "      <td>34.623660</td>\n",
       "      <td>78.024693</td>\n",
       "      <td>0</td>\n",
       "    </tr>\n",
       "    <tr>\n",
       "      <th>1</th>\n",
       "      <td>30.286711</td>\n",
       "      <td>43.894998</td>\n",
       "      <td>0</td>\n",
       "    </tr>\n",
       "    <tr>\n",
       "      <th>2</th>\n",
       "      <td>35.847409</td>\n",
       "      <td>72.902198</td>\n",
       "      <td>0</td>\n",
       "    </tr>\n",
       "    <tr>\n",
       "      <th>3</th>\n",
       "      <td>60.182599</td>\n",
       "      <td>86.308552</td>\n",
       "      <td>1</td>\n",
       "    </tr>\n",
       "    <tr>\n",
       "      <th>4</th>\n",
       "      <td>79.032736</td>\n",
       "      <td>75.344376</td>\n",
       "      <td>1</td>\n",
       "    </tr>\n",
       "  </tbody>\n",
       "</table>\n",
       "</div>"
      ],
      "text/plain": [
       "   exam_score_1  exam_score_2  admitted\n",
       "0     34.623660     78.024693         0\n",
       "1     30.286711     43.894998         0\n",
       "2     35.847409     72.902198         0\n",
       "3     60.182599     86.308552         1\n",
       "4     79.032736     75.344376         1"
      ]
     },
     "execution_count": 2,
     "metadata": {},
     "output_type": "execute_result"
    }
   ],
   "source": [
    "# Read data\n",
    "df = pd.read_csv('exams_data.txt', header=None)\n",
    "df.columns = ['exam_score_1', 'exam_score_2', 'admitted']\n",
    "df.head()"
   ]
  },
  {
   "cell_type": "code",
   "execution_count": 3,
   "id": "f00a5bd2",
   "metadata": {},
   "outputs": [],
   "source": [
    "# Initialize some useful values\n",
    "m = df.shape[0] # number of training samples\n",
    "X = np.hstack((np.ones((m, 1)), df[['exam_score_1', 'exam_score_2']].values))\n",
    "y = np.array(df['admitted'].values)"
   ]
  },
  {
   "cell_type": "code",
   "execution_count": 4,
   "id": "8fd658ee",
   "metadata": {},
   "outputs": [
    {
     "data": {
      "text/html": [
       "<div>\n",
       "<style scoped>\n",
       "    .dataframe tbody tr th:only-of-type {\n",
       "        vertical-align: middle;\n",
       "    }\n",
       "\n",
       "    .dataframe tbody tr th {\n",
       "        vertical-align: top;\n",
       "    }\n",
       "\n",
       "    .dataframe thead th {\n",
       "        text-align: right;\n",
       "    }\n",
       "</style>\n",
       "<table border=\"1\" class=\"dataframe\">\n",
       "  <thead>\n",
       "    <tr style=\"text-align: right;\">\n",
       "      <th></th>\n",
       "      <th>exam_score_1</th>\n",
       "      <th>exam_score_2</th>\n",
       "      <th>admitted</th>\n",
       "    </tr>\n",
       "  </thead>\n",
       "  <tbody>\n",
       "    <tr>\n",
       "      <th>count</th>\n",
       "      <td>100.000000</td>\n",
       "      <td>100.000000</td>\n",
       "      <td>100.000000</td>\n",
       "    </tr>\n",
       "    <tr>\n",
       "      <th>mean</th>\n",
       "      <td>65.644274</td>\n",
       "      <td>66.221998</td>\n",
       "      <td>0.600000</td>\n",
       "    </tr>\n",
       "    <tr>\n",
       "      <th>std</th>\n",
       "      <td>19.458222</td>\n",
       "      <td>18.582783</td>\n",
       "      <td>0.492366</td>\n",
       "    </tr>\n",
       "    <tr>\n",
       "      <th>min</th>\n",
       "      <td>30.058822</td>\n",
       "      <td>30.603263</td>\n",
       "      <td>0.000000</td>\n",
       "    </tr>\n",
       "    <tr>\n",
       "      <th>25%</th>\n",
       "      <td>50.919511</td>\n",
       "      <td>48.179205</td>\n",
       "      <td>0.000000</td>\n",
       "    </tr>\n",
       "    <tr>\n",
       "      <th>50%</th>\n",
       "      <td>67.032988</td>\n",
       "      <td>67.682381</td>\n",
       "      <td>1.000000</td>\n",
       "    </tr>\n",
       "    <tr>\n",
       "      <th>75%</th>\n",
       "      <td>80.212529</td>\n",
       "      <td>79.360605</td>\n",
       "      <td>1.000000</td>\n",
       "    </tr>\n",
       "    <tr>\n",
       "      <th>max</th>\n",
       "      <td>99.827858</td>\n",
       "      <td>98.869436</td>\n",
       "      <td>1.000000</td>\n",
       "    </tr>\n",
       "  </tbody>\n",
       "</table>\n",
       "</div>"
      ],
      "text/plain": [
       "       exam_score_1  exam_score_2    admitted\n",
       "count    100.000000    100.000000  100.000000\n",
       "mean      65.644274     66.221998    0.600000\n",
       "std       19.458222     18.582783    0.492366\n",
       "min       30.058822     30.603263    0.000000\n",
       "25%       50.919511     48.179205    0.000000\n",
       "50%       67.032988     67.682381    1.000000\n",
       "75%       80.212529     79.360605    1.000000\n",
       "max       99.827858     98.869436    1.000000"
      ]
     },
     "execution_count": 4,
     "metadata": {},
     "output_type": "execute_result"
    }
   ],
   "source": [
    "# The metrics of the data set were checked to give an idea.\n",
    "df.describe()"
   ]
  },
  {
   "cell_type": "markdown",
   "id": "903e6c87",
   "metadata": {},
   "source": [
    "### 2. Visualizing the Data"
   ]
  },
  {
   "cell_type": "code",
   "execution_count": 5,
   "id": "453bf816",
   "metadata": {},
   "outputs": [],
   "source": [
    "def plot_data(X, y):\n",
    "    \"\"\" Plots the data points X and y with + for the positive examples and . for the negative examples. \n",
    "        X is assumed to be a mx3 matrix.\n",
    "    \"\"\"\n",
    "  \n",
    "    # ====================== YOUR CODE HERE ====================================\n",
    "    # Plot data points\n",
    "    plt.figure(figsize=(6,4))\n",
    "    \n",
    "    # These expressions select the first and second columns of the exam scores of the samples in the matrix X.\n",
    "    # For admitted score, color is green.\n",
    "    plt.scatter(X[y==1, 1], X[y==1, 2], marker='+', label='Admitted', s=40, c='green')\n",
    "    \n",
    "    # For not admitted score, color is red.\n",
    "    plt.scatter(X[y==0, 1], X[y==0, 2], marker='.', label='Not Admitted', s=40, c='red')\n",
    "\n",
    "    # Add labels and legend\n",
    "    plt.title('Scatter plot of data')\n",
    "    plt.xlabel('Exam Score 1')\n",
    "    plt.ylabel('Exam Score 2')\n",
    "    plt.legend()\n",
    "    \n",
    "    # Show the plot\n",
    "    plt.show()\n",
    "    # ========================================================================="
   ]
  },
  {
   "cell_type": "code",
   "execution_count": 6,
   "id": "4c30cbbe",
   "metadata": {},
   "outputs": [
    {
     "data": {
      "image/png": "[encoded data removed]",
      "text/plain": [
       "<Figure size 600x400 with 1 Axes>"
      ]
     },
     "metadata": {},
     "output_type": "display_data"
    }
   ],
   "source": [
    "# Plot data\n",
    "plot_data(X, y)"
   ]
  },
  {
   "cell_type": "markdown",
   "id": "27a3f3b8",
   "metadata": {},
   "source": [
    "### 3. Model Implementation"
   ]
  },
  {
   "cell_type": "markdown",
   "id": "bab9aa48",
   "metadata": {},
   "source": [
    "Logistic regression hypothesis: \n",
    "\n",
    "$$h_\\theta(x) = g(\\theta^Tx)$$\n",
    "\n",
    "$$g(z) = \\frac{1}{1+e^{-z}}$$"
   ]
  },
  {
   "cell_type": "markdown",
   "id": "fc20dda3",
   "metadata": {},
   "source": [
    "#### 3.1 Sigmoid function"
   ]
  },
  {
   "cell_type": "code",
   "execution_count": 7,
   "id": "a13be4b7",
   "metadata": {},
   "outputs": [],
   "source": [
    "def sigmoid(z):\n",
    "    \"\"\" g = sigmoid(z) computes the sigmoid of z (z can be a scalar, vector or a matrix).\n",
    "    \"\"\"\n",
    "    # ====================== YOUR CODE HERE =======================\n",
    "    # define z\n",
    "    z = np.array(z)\n",
    "    \n",
    "    # np.exp used for euler's number\n",
    "    return (1 / (1+np.exp(-z)))\n",
    "    # ============================================================="
   ]
  },
  {
   "cell_type": "code",
   "execution_count": 8,
   "id": "d9ee0c6d",
   "metadata": {},
   "outputs": [
    {
     "data": {
      "text/plain": [
       "array([0.5       , 0.52497919, 0.62245933, 0.7109495 , 0.73105858])"
      ]
     },
     "execution_count": 8,
     "metadata": {},
     "output_type": "execute_result"
    }
   ],
   "source": [
    "sigmoid([0, 0.1, 0.5, 0.9, 1])"
   ]
  },
  {
   "cell_type": "markdown",
   "id": "8ac4c28c",
   "metadata": {},
   "source": [
    "#### 3.2 Cost function and gradient"
   ]
  },
  {
   "cell_type": "markdown",
   "id": "a2acc6f0",
   "metadata": {},
   "source": [
    "Cost function in logistic regression is:\n",
    "\n",
    "$$J(\\theta) = -\\frac{1}{m}\\sum_{i=1}^m[y^i log(h_\\theta(x^i))+(1-y^i)log(1-h_\\theta(x^i))]$$\n",
    "\n",
    "Vectorized implementation:\n",
    "\n",
    "$h = g(X\\theta)$\n",
    "\n",
    "$J(\\theta) = \\frac{1}{m}(-y^T log(h)-(1-y)^Tlog(1-h))$\n",
    "\n",
    "\n",
    "\n",
    "The gradient of the cost is a vector of the same length as $\\theta$ where $j^{th}$ element (for $j=0,1,...,n$) is defined as follows:\n",
    "\n",
    "$$\\nabla J(\\theta) = \\frac{1}{m} \\sum_{i=1}^m ((h_\\theta(x^i) - y^i) \\cdot x_j^i)$$\n",
    "\n",
    "Vectorized:\n",
    "$\\nabla J(\\theta) = \\frac{1}{m} \\cdot X^T \\cdot (g(X\\theta)-y)$"
   ]
  },
  {
   "cell_type": "code",
   "execution_count": 9,
   "id": "53f0e152",
   "metadata": {},
   "outputs": [],
   "source": [
    "# Compute cost and gradient for logistic regression\n",
    "def cost_function(theta, X, y):\n",
    "    \"\"\" J, grad = cost_function(theta, X, y) computes the cost of using theta as the parameter \n",
    "        for logistic regression and the gradient of the cost w.r.t. to the parameters.\n",
    "    \"\"\"\n",
    "\n",
    "    # You need to return the following variables correctly \n",
    "    J = 0\n",
    "    grad = np.zeros(len(theta))\n",
    "  \n",
    "    # ====================== YOUR CODE HERE ====================================\n",
    "    # Instructions: Compute the cost of a particular choice of theta.\n",
    "    #               You should set J to the cost.\n",
    "    #               Compute the partial derivatives and set grad to the partial\n",
    "    #               derivatives of the cost w.r.t. each parameter in theta\n",
    "    #\n",
    "    # Note: grad should have the same dimensions as theta\n",
    "    #\n",
    "    # DIMENSIONS: \n",
    "    #   theta = (n+1) x 1\n",
    "    #   X     = m x (n+1)\n",
    "    #   y     = m x 1\n",
    "    #   grad  = (n+1) x 1\n",
    "    #   J     = Scalar\n",
    "    \n",
    "    # number of samples\n",
    "    m = len(y)\n",
    "    \n",
    "    # define h function\n",
    "    h=sigmoid(X @ theta)\n",
    "    \n",
    "    # define J (cost) function\n",
    "    J = (-1/m) * np.sum(y * np.log(h) + (1-y) * np.log(1 - h))\n",
    "    \n",
    "    # define gradient to calculates the gradient of the cost function.  \n",
    "    grad = (1/m) * X.T @ (h - y)\n",
    "    # =========================================================================\n",
    "    return J, grad"
   ]
  },
  {
   "cell_type": "code",
   "execution_count": 10,
   "id": "37670083",
   "metadata": {},
   "outputs": [
    {
     "name": "stdout",
     "output_type": "stream",
     "text": [
      "Cost at initial theta (zeros): 0.6931471805599453\n",
      "Expected cost (approx): 0.693\n",
      "Gradient at initial theta (zeros):\n",
      "[ -0.1        -12.00921659 -11.26284221]\n",
      "Expected gradients (approx):\n",
      " -0.1000\n",
      " -12.0092\n",
      " -11.2628\n"
     ]
    }
   ],
   "source": [
    "initial_theta = np.zeros(shape=(X.shape[1]))\n",
    "cost, grad = cost_function(initial_theta, X, y)\n",
    "\n",
    "print('Cost at initial theta (zeros):', cost)\n",
    "print('Expected cost (approx): 0.693')\n",
    "print('Gradient at initial theta (zeros):')\n",
    "print(grad)\n",
    "print('Expected gradients (approx):\\n -0.1000\\n -12.0092\\n -11.2628')"
   ]
  },
  {
   "cell_type": "markdown",
   "id": "4e1ebddd",
   "metadata": {},
   "source": [
    "#### 3.3 Learning parameters using an optimization solver"
   ]
  },
  {
   "cell_type": "markdown",
   "id": "b8c2d481",
   "metadata": {},
   "source": [
    "\"Conjugate gradient\", \"BFGS\", and \"TNC (Truncated Newton)\" are more sophisticated, faster ways to optimize \n",
    " that can be used instead of gradient descent."
   ]
  },
  {
   "cell_type": "code",
   "execution_count": 11,
   "id": "54fe88c1",
   "metadata": {},
   "outputs": [],
   "source": [
    "import scipy.optimize as opt\n",
    "\n",
    "def optimize_theta(X, y, initial_theta):\n",
    "    opt_results = opt.minimize(cost_function, initial_theta, args=(X, y), method='TNC',\n",
    "                               jac=True, options={'maxiter':400})\n",
    "    return opt_results['x'], opt_results['fun']"
   ]
  },
  {
   "cell_type": "code",
   "execution_count": 12,
   "id": "4ea7862d",
   "metadata": {},
   "outputs": [
    {
     "name": "stderr",
     "output_type": "stream",
     "text": [
      "/var/folders/sn/m91g82490jbfm36bn4bwq1m40000gn/T/ipykernel_13453/2329939577.py:4: DeprecationWarning: 'maxiter' has been deprecated in favor of 'maxfun' and will be removed in SciPy 1.11.0.\n",
      "  opt_results = opt.minimize(cost_function, initial_theta, args=(X, y), method='TNC',\n"
     ]
    }
   ],
   "source": [
    "opt_theta, cost = optimize_theta(X, y, initial_theta)"
   ]
  },
  {
   "cell_type": "code",
   "execution_count": 13,
   "id": "cc827acc",
   "metadata": {},
   "outputs": [
    {
     "name": "stdout",
     "output_type": "stream",
     "text": [
      "Cost at theta found by fminunc: 0.20349770158947458\n",
      "Expected cost (approx): 0.203\n",
      "theta:\n",
      " [[-25.16131863]\n",
      " [  0.20623159]\n",
      " [  0.20147149]]\n",
      "Expected theta (approx):\n",
      " -25.161\n",
      " 0.206\n",
      " 0.201\n"
     ]
    }
   ],
   "source": [
    "print('Cost at theta found by fminunc:', cost)\n",
    "print('Expected cost (approx): 0.203')\n",
    "print('theta:\\n', opt_theta.reshape(-1,1))\n",
    "print('Expected theta (approx):')\n",
    "print(' -25.161\\n 0.206\\n 0.201')"
   ]
  },
  {
   "cell_type": "markdown",
   "id": "585f8514",
   "metadata": {},
   "source": [
    "### 4. Evaluating the Model"
   ]
  },
  {
   "cell_type": "code",
   "execution_count": 14,
   "id": "a95d6116",
   "metadata": {},
   "outputs": [
    {
     "name": "stdout",
     "output_type": "stream",
     "text": [
      "For a student with scores 45 and 85, we predict an admission probability of 0.7762906241055562\n",
      "Expected value: 0.775 +/- 0.002\n"
     ]
    }
   ],
   "source": [
    "prob = sigmoid(np.array([1, 45, 85]).dot(opt_theta))\n",
    "print('For a student with scores 45 and 85, we predict an admission probability of', prob)\n",
    "print('Expected value: 0.775 +/- 0.002')"
   ]
  },
  {
   "cell_type": "markdown",
   "id": "bd6295fd",
   "metadata": {},
   "source": [
    "#### 4.1 Accuracy on the training set"
   ]
  },
  {
   "cell_type": "code",
   "execution_count": 15,
   "id": "444ff435",
   "metadata": {},
   "outputs": [],
   "source": [
    "def predict(theta, X):\n",
    "    \"\"\" Predict whether the label is 0 or 1 using learned logistic regression parameters theta\n",
    "        y_pred = PREDICT(theta, X) computes the predictions for X using a threshold at 0.5 \n",
    "        (i.e., if sigmoid(X @ theta) >= 0.5, predict 1)\n",
    "    \"\"\"\n",
    "  \n",
    "    # You need to return the following variables correctly\n",
    "    y_pred = np.zeros(m)\n",
    "  \n",
    "    # ====================== YOUR CODE HERE ===================================\n",
    "    # Instructions: Complete the following code to make predictions using\n",
    "    #               your learned logistic regression parameters. \n",
    "    #               You should set p to a vector of 0's and 1's\n",
    "    #\n",
    "    # Dimentions:\n",
    "    # X     =  m x (n+1)\n",
    "    # theta = (n+1) x 1\n",
    "    \n",
    "    # Define treshold\n",
    "    treshold=0.5\n",
    "\n",
    "    # Compute the probability of admission for each example in X.\n",
    "    prob = sigmoid(X @ theta)\n",
    "  \n",
    "    # Set the prediction to 1 if the probability is greater than or equal to treshold value.\n",
    "    y_pred[prob >= treshold] = 1\n",
    "    # =========================================================================\n",
    "    return y_pred"
   ]
  },
  {
   "cell_type": "code",
   "execution_count": 16,
   "id": "b7ba7c50",
   "metadata": {},
   "outputs": [
    {
     "name": "stdout",
     "output_type": "stream",
     "text": [
      "Train accuracy: 89.0%\n"
     ]
    }
   ],
   "source": [
    "y_pred = predict(opt_theta, X)\n",
    "print(f'Train accuracy: {np.mean(y_pred == y) * 100}%')"
   ]
  },
  {
   "cell_type": "markdown",
   "id": "a6a6612b",
   "metadata": {},
   "source": [
    "#### 4.2 Decision boundary"
   ]
  },
  {
   "cell_type": "markdown",
   "id": "36ca34cc",
   "metadata": {},
   "source": [
    "Hence,  $\\theta_1 + \\theta_2x_2 + \\theta_3x_3 = 0$  is the equation for the decision boundary.\n",
    "The equation of the boundary line is: $y = \\frac{-(\\theta_1+\\theta_2x_2)}{\\theta_3}$"
   ]
  },
  {
   "cell_type": "code",
   "execution_count": 17,
   "id": "c934251c",
   "metadata": {},
   "outputs": [],
   "source": [
    "def plot_data_with_decision_boundary(theta, X, y):\n",
    "    \"\"\" Plots the training data with the decision boundary\n",
    "    \"\"\"\n",
    "    # ====================== YOUR CODE HERE ===================================\n",
    "    # Plot data points\n",
    "    plt.figure(figsize=(6,4))\n",
    "    \n",
    "    # These expressions select the first and second columns of the exam scores of the samples in the matrix X.\n",
    "    # For admitted score, color is green.\n",
    "    plt.scatter(X[y==1, 1], X[y==1, 2], marker='+', label='Admitted', s=40, c='green')\n",
    "    \n",
    "    # For not admitted score, color is red.\n",
    "    plt.scatter(X[y==0, 1], X[y==0, 2], marker='.', label='Not Admitted', s=40, c='red')\n",
    "    \n",
    "    # Calculate c(intercept) and m(slope)\n",
    "    c = -theta[0]/theta[2]\n",
    "    m = -theta[1]/theta[2]\n",
    "    \n",
    "    # Create x and y boundary for line\n",
    "    x_boundary = np.array([np.min(X[:,1])-2, np.max(X[:,1])+2])\n",
    "    y_boundary = c+m*x_boundary\n",
    "    \n",
    "    # Show boundary line equation\n",
    "    print('Equation of the boundary line is: y=', c,m,'* x')\n",
    "    \n",
    "    # Plot decision boundary line\n",
    "    plt.plot(x_boundary, y_boundary, label='Decision boundary')\n",
    "    \n",
    "    # Add labels and legend\n",
    "    plt.title('Scatter plot of data with decision boundary')\n",
    "    plt.xlabel('Exam Score 1')\n",
    "    plt.ylabel('Exam Score 2')\n",
    "    plt.legend()\n",
    "    \n",
    "    # Show the plot\n",
    "    plt.show()\n",
    "    # ========================================================================="
   ]
  },
  {
   "cell_type": "code",
   "execution_count": 18,
   "id": "14337424",
   "metadata": {},
   "outputs": [
    {
     "name": "stdout",
     "output_type": "stream",
     "text": [
      "Equation of the boundary line is: y= 124.88774018870757 -1.0236266797442384 * x\n"
     ]
    },
    {
     "data": {
      "image/png": "[encoded data removed]",
      "text/plain": [
       "<Figure size 600x400 with 1 Axes>"
      ]
     },
     "metadata": {},
     "output_type": "display_data"
    }
   ],
   "source": [
    "# Plots the training data with the decision boundary\n",
    "plot_data_with_decision_boundary(opt_theta, X, y)"
   ]
  },
  {
   "cell_type": "markdown",
   "id": "64953d28",
   "metadata": {},
   "source": [
    "### Thanks! - Omer S. Koc"
   ]
  }
 ],
 "metadata": {
  "kernelspec": {
   "display_name": "Python 3 (ipykernel)",
   "language": "python",
   "name": "python3"
  },
  "language_info": {
   "codemirror_mode": {
    "name": "ipython",
    "version": 3
   },
   "file_extension": ".py",
   "mimetype": "text/x-python",
   "name": "python",
   "nbconvert_exporter": "python",
   "pygments_lexer": "ipython3",
   "version": "3.9.13"
  }
 },
 "nbformat": 4,
 "nbformat_minor": 5
}
