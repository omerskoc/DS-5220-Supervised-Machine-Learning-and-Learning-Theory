{
 "cells": [
  {
   "cell_type": "markdown",
   "id": "71df48f3",
   "metadata": {},
   "source": [
    "##  Programming Exercise: Spam Filter"
   ]
  },
  {
   "cell_type": "markdown",
   "id": "409a6fb9",
   "metadata": {},
   "source": [
    "### DS 5220 - Omer Seyfeddin Koc"
   ]
  },
  {
   "cell_type": "markdown",
   "id": "82175838",
   "metadata": {},
   "source": [
    "A spam filter is a computer program that classifies e-mail messages as either spam (unwanted) or ham (wanted). The spam filter maintains a set of features. A feature is a characteristic of messages that the spam filter can use to distinguish ham from spam. A feature could be simply the presence of a word in the message, for example, ”the message contains the word ’lottery’”, and it could be much more complex/powerful, for example, ”the subject line is all capitals” or ”the message body mentions many Internet domains”. <br><br> Given (1) a set of features, (2) a set of messages known to be ham, and (3) a set of messages known to be spam, the spam filter learns how to classify incoming messages as ham or spam. In this exercise we are going to train a spam filter using the Apache SpamAssassin public mail corpus.\n"
   ]
  },
  {
   "cell_type": "markdown",
   "id": "eea5cb2a",
   "metadata": {},
   "source": [
    "## 1. Download the files / 2. Unzip the datasets and familiarize yourself with the data format"
   ]
  },
  {
   "cell_type": "code",
   "execution_count": 1,
   "id": "de259867",
   "metadata": {},
   "outputs": [
    {
     "name": "stderr",
     "output_type": "stream",
     "text": [
      "[nltk_data] Downloading package stopwords to\n",
      "[nltk_data]     /Users/omerkoc/nltk_data...\n",
      "[nltk_data]   Package stopwords is already up-to-date!\n"
     ]
    }
   ],
   "source": [
    "# import required library\n",
    "import os\n",
    "import io\n",
    "import numpy\n",
    "from pandas import DataFrame\n",
    "from sklearn.feature_extraction.text import CountVectorizer\n",
    "from sklearn.naive_bayes import MultinomialNB\n",
    "import email\n",
    "import os\n",
    "import re\n",
    "import string\n",
    "import nltk\n",
    "from bs4 import BeautifulSoup\n",
    "from nltk.corpus import stopwords\n",
    "from nltk.tokenize import word_tokenize\n",
    "from sklearn.feature_extraction.text import TfidfVectorizer\n",
    "import pandas as pd\n",
    "import nltk\n",
    "nltk.download('stopwords')\n",
    "import string\n",
    "import re\n",
    "from sklearn.feature_extraction.text import TfidfVectorizer"
   ]
  },
  {
   "cell_type": "markdown",
   "id": "58267315",
   "metadata": {},
   "source": [
    "## 3. Use Python’s email module to parse the email messages "
   ]
  },
  {
   "cell_type": "code",
   "execution_count": 2,
   "id": "4d8efe15",
   "metadata": {},
   "outputs": [],
   "source": [
    "import email\n",
    "from bs4 import BeautifulSoup\n",
    "\n",
    "def parse_email(file_path):\n",
    "    with open(file_path, 'rb') as f:\n",
    "        msg = email.message_from_bytes(f.read())\n",
    "    # Get email headers\n",
    "    subject = msg.get('Subject')\n",
    "    # Read email’s body\n",
    "    body = str(msg.get_payload())\n",
    "    # Remove HTML tags\n",
    "    body = BeautifulSoup(body).get_text()\n",
    "    return subject, body"
   ]
  },
  {
   "cell_type": "code",
   "execution_count": 3,
   "id": "2942d917",
   "metadata": {},
   "outputs": [
    {
     "name": "stderr",
     "output_type": "stream",
     "text": [
      "/Users/omerkoc/opt/anaconda3/lib/python3.9/site-packages/bs4/__init__.py:435: MarkupResemblesLocatorWarning: The input looks more like a filename than markup. You may want to open this file and pass the filehandle into Beautiful Soup.\n",
      "  warnings.warn(\n",
      "/Users/omerkoc/opt/anaconda3/lib/python3.9/site-packages/bs4/__init__.py:404: MarkupResemblesLocatorWarning: The input looks more like a URL than markup. You may want to use an HTTP client like requests to get the document behind the URL, and feed that document to Beautiful Soup.\n",
      "  warnings.warn(\n"
     ]
    }
   ],
   "source": [
    "import os\n",
    "import pandas as pd\n",
    "\n",
    "# Initialize an empty DataFrame with two columns: 'message' and 'class_'\n",
    "data = pd.DataFrame({'message': [], 'class_': []})\n",
    "\n",
    "# Iterate through every file in the 'easy_ham' directory and append it to the DataFrame with class label 0 (ham)\n",
    "ham_dir = 'easy_ham'\n",
    "for filename in os.listdir(ham_dir):\n",
    "    filepath = os.path.join(ham_dir, filename)\n",
    "    subject, body = parse_email(filepath)\n",
    "    # Append the DataFrame with messages from the 'easy_ham' directory and assign class label 0 (ham)\n",
    "    data = pd.concat([data, pd.DataFrame({'message': [body], 'class_': [0]})], ignore_index=True)\n",
    "\n",
    "# Iterate through every file in the 'spam' directory and append it to the DataFrame with class label 1 (spam)\n",
    "spam_dir = 'spam'\n",
    "for filename in os.listdir(spam_dir):\n",
    "    filepath = os.path.join(spam_dir, filename)\n",
    "    subject, body = parse_email(filepath)\n",
    "    # Append the DataFrame with messages from the 'spam' directory and assign class label 1 (spam)\n",
    "    data = pd.concat([data, pd.DataFrame({'message': [body], 'class_': [1]})], ignore_index=True)"
   ]
  },
  {
   "cell_type": "code",
   "execution_count": 4,
   "id": "ed76b6d2",
   "metadata": {},
   "outputs": [
    {
     "data": {
      "text/html": [
       "<div>\n",
       "<style scoped>\n",
       "    .dataframe tbody tr th:only-of-type {\n",
       "        vertical-align: middle;\n",
       "    }\n",
       "\n",
       "    .dataframe tbody tr th {\n",
       "        vertical-align: top;\n",
       "    }\n",
       "\n",
       "    .dataframe thead th {\n",
       "        text-align: right;\n",
       "    }\n",
       "</style>\n",
       "<table border=\"1\" class=\"dataframe\">\n",
       "  <thead>\n",
       "    <tr style=\"text-align: right;\">\n",
       "      <th></th>\n",
       "      <th>message</th>\n",
       "      <th>class_</th>\n",
       "    </tr>\n",
       "  </thead>\n",
       "  <tbody>\n",
       "    <tr>\n",
       "      <th>0</th>\n",
       "      <td>In a message dated 9/24/2002 11:24:58 AM, jame...</td>\n",
       "      <td>0.0</td>\n",
       "    </tr>\n",
       "    <tr>\n",
       "      <th>1</th>\n",
       "      <td>Hiya, I always seem to get errors when I do an...</td>\n",
       "      <td>0.0</td>\n",
       "    </tr>\n",
       "    <tr>\n",
       "      <th>2</th>\n",
       "      <td>I don't know how one can expect better and mor...</td>\n",
       "      <td>0.0</td>\n",
       "    </tr>\n",
       "    <tr>\n",
       "      <th>3</th>\n",
       "      <td>Tim Peters wrote:\\n&gt; I've run no experiments o...</td>\n",
       "      <td>0.0</td>\n",
       "    </tr>\n",
       "    <tr>\n",
       "      <th>4</th>\n",
       "      <td>At 10:34 AM -0700 on 8/28/02, Jim Whitehead wr...</td>\n",
       "      <td>0.0</td>\n",
       "    </tr>\n",
       "  </tbody>\n",
       "</table>\n",
       "</div>"
      ],
      "text/plain": [
       "                                             message  class_\n",
       "0  In a message dated 9/24/2002 11:24:58 AM, jame...     0.0\n",
       "1  Hiya, I always seem to get errors when I do an...     0.0\n",
       "2  I don't know how one can expect better and mor...     0.0\n",
       "3  Tim Peters wrote:\\n> I've run no experiments o...     0.0\n",
       "4  At 10:34 AM -0700 on 8/28/02, Jim Whitehead wr...     0.0"
      ]
     },
     "execution_count": 4,
     "metadata": {},
     "output_type": "execute_result"
    }
   ],
   "source": [
    "# Display the first 5 rows of the DataFrame\n",
    "data.head()"
   ]
  },
  {
   "cell_type": "code",
   "execution_count": 5,
   "id": "e1eb9244",
   "metadata": {
    "scrolled": true
   },
   "outputs": [
    {
     "data": {
      "text/plain": [
       "0.0    2501\n",
       "1.0     501\n",
       "Name: class_, dtype: int64"
      ]
     },
     "execution_count": 5,
     "metadata": {},
     "output_type": "execute_result"
    }
   ],
   "source": [
    "# Counts the number of occurrences of each unique value in the 'class_' column of the DataFrame\n",
    "# The correctness of the data entry is checked by looking at the values here.\n",
    "data['class_'].value_counts()"
   ]
  },
  {
   "cell_type": "markdown",
   "id": "ab5a92e1",
   "metadata": {},
   "source": [
    "## 4. Apply text preprocessing techniques to convert each email into a feature vector."
   ]
  },
  {
   "cell_type": "code",
   "execution_count": 6,
   "id": "8e9edbdc",
   "metadata": {},
   "outputs": [
    {
     "data": {
      "text/html": [
       "<div>\n",
       "<style scoped>\n",
       "    .dataframe tbody tr th:only-of-type {\n",
       "        vertical-align: middle;\n",
       "    }\n",
       "\n",
       "    .dataframe tbody tr th {\n",
       "        vertical-align: top;\n",
       "    }\n",
       "\n",
       "    .dataframe thead th {\n",
       "        text-align: right;\n",
       "    }\n",
       "</style>\n",
       "<table border=\"1\" class=\"dataframe\">\n",
       "  <thead>\n",
       "    <tr style=\"text-align: right;\">\n",
       "      <th></th>\n",
       "      <th>message</th>\n",
       "      <th>class_</th>\n",
       "    </tr>\n",
       "  </thead>\n",
       "  <tbody>\n",
       "    <tr>\n",
       "      <th>0</th>\n",
       "      <td>message dated 9/24/2002 11:24:58 AM, jamesr@be...</td>\n",
       "      <td>0.0</td>\n",
       "    </tr>\n",
       "    <tr>\n",
       "      <th>1</th>\n",
       "      <td>Hiya, always seem get errors \"apt update\", pro...</td>\n",
       "      <td>0.0</td>\n",
       "    </tr>\n",
       "    <tr>\n",
       "      <th>2</th>\n",
       "      <td>know one expect better secure code community s...</td>\n",
       "      <td>0.0</td>\n",
       "    </tr>\n",
       "    <tr>\n",
       "      <th>3</th>\n",
       "      <td>Tim Peters wrote: &gt; I've run experiments train...</td>\n",
       "      <td>0.0</td>\n",
       "    </tr>\n",
       "    <tr>\n",
       "      <th>4</th>\n",
       "      <td>10:34 -0700 8/28/02, Jim Whitehead wrote: &gt; Gr...</td>\n",
       "      <td>0.0</td>\n",
       "    </tr>\n",
       "  </tbody>\n",
       "</table>\n",
       "</div>"
      ],
      "text/plain": [
       "                                             message  class_\n",
       "0  message dated 9/24/2002 11:24:58 AM, jamesr@be...     0.0\n",
       "1  Hiya, always seem get errors \"apt update\", pro...     0.0\n",
       "2  know one expect better secure code community s...     0.0\n",
       "3  Tim Peters wrote: > I've run experiments train...     0.0\n",
       "4  10:34 -0700 8/28/02, Jim Whitehead wrote: > Gr...     0.0"
      ]
     },
     "execution_count": 6,
     "metadata": {},
     "output_type": "execute_result"
    }
   ],
   "source": [
    "# Apply text preprocessing techniques\n",
    "def text_process(text):\n",
    "    # Replace URLs with 'URL'\n",
    "    text = re.sub(r'http\\S+', 'URL', text)\n",
    "    # Tokenize text into words\n",
    "    text = text.split()\n",
    "    # Remove stop words\n",
    "    text = [word for word in text if word.lower() not in stopwords.words('english')]\n",
    "    # Join words back into text\n",
    "    text = ' '.join(text)\n",
    "    return text\n",
    "\n",
    "# Applies the text_process function to the 'message' column of the DataFrame\n",
    "# text_process function converts text to lowercase, removes URLs, removes punctuations, \n",
    "# tokenizes the text into words, removes stop words, and joins the remaining words back into text.\n",
    "data['message'] = data['message'].apply(text_process)\n",
    "\n",
    "# Display the first 5 rows of the data\n",
    "data.head()"
   ]
  },
  {
   "cell_type": "code",
   "execution_count": 7,
   "id": "2f459687",
   "metadata": {},
   "outputs": [],
   "source": [
    "import pandas as pd\n",
    "# Create a new DataFrame containing preprocessed text messages\n",
    "text = pd.DataFrame(data['message'])\n",
    "\n",
    "# Create a new DataFrame containing the corresponding class labels for each message\n",
    "class_ = pd.DataFrame(data['class_'])"
   ]
  },
  {
   "cell_type": "markdown",
   "id": "861f4b8b",
   "metadata": {},
   "source": [
    "### Vectorizer"
   ]
  },
  {
   "cell_type": "markdown",
   "id": "c4a838f9",
   "metadata": {},
   "source": [
    "Count Vectorizer or TF-IDF Vectorizer can be used to turn words into vectors. TF-IDF is better than Count Vectorizers because it not only focuses on the frequency of words present in the corpus but also provides the importance of the words."
   ]
  },
  {
   "cell_type": "code",
   "execution_count": 8,
   "id": "6b7fe7a8",
   "metadata": {},
   "outputs": [],
   "source": [
    "from sklearn.feature_extraction.text import TfidfVectorizer\n",
    "\n",
    "# Convert each email into a feature vector.\n",
    "# Create TF-IDF vectorizer object\n",
    "tfidf_vectorizer = TfidfVectorizer()\n",
    "\n",
    "# Fit and transform the text data\n",
    "tfidf_matrix = tfidf_vectorizer.fit_transform(text['message'])"
   ]
  },
  {
   "cell_type": "markdown",
   "id": "04dc7fed",
   "metadata": {},
   "source": [
    "## 5. Split the emails into training and test sets."
   ]
  },
  {
   "cell_type": "code",
   "execution_count": 9,
   "id": "552c833e",
   "metadata": {},
   "outputs": [],
   "source": [
    "from sklearn.model_selection import GridSearchCV,train_test_split,StratifiedKFold,cross_val_score,learning_curve\n",
    "\n",
    "from sklearn.feature_extraction.text import CountVectorizer\n",
    "\n",
    "# Convert text messages to a matrix of token counts\n",
    "vectorizer = TfidfVectorizer()\n",
    "features = vectorizer.fit_transform(data['message'])\n",
    "\n",
    "#split the dataset into train and test set\n",
    "X_train, X_test, y_train, y_test = train_test_split(features, data['class_'], test_size=0.2, random_state=1)"
   ]
  },
  {
   "cell_type": "markdown",
   "id": "d66037cf",
   "metadata": {},
   "source": [
    "## 6. Try out several classifiers (e.g., Naive Bayes, KNN, logistic regression) and see if you can build a great spam classifier, with both high recall and high precision."
   ]
  },
  {
   "cell_type": "code",
   "execution_count": 10,
   "id": "86fe699b",
   "metadata": {},
   "outputs": [],
   "source": [
    "#import sklearn packages for building classifiers\n",
    "from sklearn.linear_model import LogisticRegression\n",
    "from sklearn.svm import SVC\n",
    "from sklearn.naive_bayes import MultinomialNB\n",
    "from sklearn.tree import DecisionTreeClassifier\n",
    "from sklearn.neighbors import KNeighborsClassifier\n",
    "from sklearn.ensemble import RandomForestClassifier\n",
    "from sklearn.metrics import accuracy_score\n",
    "from sklearn.svm import LinearSVC\n",
    "from sklearn.datasets import load_iris\n",
    "from sklearn.datasets import make_classification\n",
    "from sklearn.model_selection import train_test_split\n",
    "from sklearn.model_selection import cross_val_score\n",
    "from sklearn.metrics import confusion_matrix\n",
    "from sklearn.metrics import classification_report\n",
    "from sklearn.metrics import precision_score, recall_score"
   ]
  },
  {
   "cell_type": "markdown",
   "id": "e91c4013",
   "metadata": {},
   "source": [
    "### a) Linear SVC"
   ]
  },
  {
   "cell_type": "code",
   "execution_count": 11,
   "id": "d19e06bc",
   "metadata": {},
   "outputs": [
    {
     "name": "stdout",
     "output_type": "stream",
     "text": [
      "Accuracy: 0.9500831946755408\n",
      "Score:  0.9500831946755408\n",
      "Recall:  0.7058823529411765\n",
      "Precision:  1.0\n"
     ]
    }
   ],
   "source": [
    "# Linear SVC\n",
    "lsvc = LinearSVC(verbose=0,random_state=1)\n",
    "lsvc.fit(X_train, y_train)\n",
    "lsvc_score = lsvc.score(X_test, y_test)\n",
    "\n",
    "# Make predictions on the test set\n",
    "y_pred = lsvc.predict(X_test)\n",
    "\n",
    "# Calculate recall and precision scores\n",
    "lsvc_recall = recall_score(y_test, y_pred)\n",
    "lsvc_precision = precision_score(y_test, y_pred)\n",
    "lsvc_accuracy = accuracy_score(y_test, y_pred)\n",
    "\n",
    "print(\"Accuracy:\", lsvc_accuracy)\n",
    "print(\"Score: \", lsvc_score)\n",
    "print(\"Recall: \", lsvc_recall)\n",
    "print(\"Precision: \", lsvc_precision)"
   ]
  },
  {
   "cell_type": "markdown",
   "id": "012964c0",
   "metadata": {},
   "source": [
    "### b) K-Nearest Neighbors"
   ]
  },
  {
   "cell_type": "code",
   "execution_count": 12,
   "id": "0725f812",
   "metadata": {},
   "outputs": [
    {
     "name": "stdout",
     "output_type": "stream",
     "text": [
      "Accuracy: 0.6306156405990017\n",
      "Score:  0.6306156405990017\n",
      "Recall:  0.7254901960784313\n",
      "Precision:  0.27611940298507465\n"
     ]
    },
    {
     "name": "stderr",
     "output_type": "stream",
     "text": [
      "/Users/omerkoc/opt/anaconda3/lib/python3.9/site-packages/sklearn/neighbors/_classification.py:228: FutureWarning: Unlike other reduction functions (e.g. `skew`, `kurtosis`), the default behavior of `mode` typically preserves the axis it acts along. In SciPy 1.11.0, this behavior will change: the default value of `keepdims` will become False, the `axis` over which the statistic is taken will be eliminated, and the value None will no longer be accepted. Set `keepdims` to True or False to avoid this warning.\n",
      "  mode, _ = stats.mode(_y[neigh_ind, k], axis=1)\n",
      "/Users/omerkoc/opt/anaconda3/lib/python3.9/site-packages/sklearn/neighbors/_classification.py:228: FutureWarning: Unlike other reduction functions (e.g. `skew`, `kurtosis`), the default behavior of `mode` typically preserves the axis it acts along. In SciPy 1.11.0, this behavior will change: the default value of `keepdims` will become False, the `axis` over which the statistic is taken will be eliminated, and the value None will no longer be accepted. Set `keepdims` to True or False to avoid this warning.\n",
      "  mode, _ = stats.mode(_y[neigh_ind, k], axis=1)\n"
     ]
    }
   ],
   "source": [
    "# K-Nearest Neighbors\n",
    "knn = KNeighborsClassifier(n_neighbors=5)\n",
    "knn.fit(X_train, y_train)\n",
    "knn_score=knn.score(X_test, y_test)\n",
    "\n",
    "# Make predictions on the test set\n",
    "y_pred = knn.predict(X_test)\n",
    "\n",
    "# Calculate recall and precision scores\n",
    "knn_recall = recall_score(y_test, y_pred)\n",
    "knn_precision = precision_score(y_test, y_pred)\n",
    "knn_accuracy = accuracy_score(y_test, y_pred)\n",
    "\n",
    "print(\"Accuracy:\", knn_accuracy)\n",
    "print(\"Score: \", knn_score)\n",
    "print(\"Recall: \", knn_recall)\n",
    "print(\"Precision: \", knn_precision)"
   ]
  },
  {
   "cell_type": "markdown",
   "id": "14e8d3e7",
   "metadata": {},
   "source": [
    "### c) MultinomialNB"
   ]
  },
  {
   "cell_type": "code",
   "execution_count": 13,
   "id": "2a900b3d",
   "metadata": {},
   "outputs": [
    {
     "name": "stdout",
     "output_type": "stream",
     "text": [
      "Accuracy: 0.956738768718802\n",
      "Score:  0.956738768718802\n",
      "Recall:  0.7549019607843137\n",
      "Precision:  0.9871794871794872\n"
     ]
    }
   ],
   "source": [
    "# import\n",
    "from sklearn.naive_bayes import MultinomialNB\n",
    "\n",
    "# instantiate a Multinomial Naive Bayes model\n",
    "nb = MultinomialNB(alpha=0.01)\n",
    "nb.fit(X_train, y_train)\n",
    "nb_score=nb.score(X_test, y_test)\n",
    "\n",
    "# Make predictions on the test set\n",
    "y_pred = nb.predict(X_test)\n",
    "\n",
    "# Calculate recall and precision scores\n",
    "nb_recall = recall_score(y_test, y_pred)\n",
    "nb_precision = precision_score(y_test, y_pred)\n",
    "nb_accuracy = accuracy_score(y_test, y_pred)\n",
    "\n",
    "print(\"Accuracy:\", nb_accuracy)\n",
    "print(\"Score: \", nb_score)\n",
    "print(\"Recall: \", nb_recall)\n",
    "print(\"Precision: \", nb_precision)"
   ]
  },
  {
   "cell_type": "markdown",
   "id": "4db29d4b",
   "metadata": {},
   "source": [
    "### d) Decision Tree classifer"
   ]
  },
  {
   "cell_type": "code",
   "execution_count": 14,
   "id": "1e5d0209",
   "metadata": {},
   "outputs": [
    {
     "name": "stdout",
     "output_type": "stream",
     "text": [
      "Accuracy: 0.9234608985024958\n",
      "Score:  0.9234608985024958\n",
      "Recall:  0.6862745098039216\n",
      "Precision:  0.8333333333333334\n"
     ]
    }
   ],
   "source": [
    "# Create Decision Tree classifer object\n",
    "dtc = DecisionTreeClassifier(random_state=1)\n",
    "\n",
    "# Train Decision Tree Classifer\n",
    "dtc = dtc.fit(X_train,y_train)\n",
    "\n",
    "#Predict the response for test dataset\n",
    "y_pred = dtc.predict(X_test)\n",
    "dtc_score=dtc.score(X_test, y_test)\n",
    "\n",
    "# Calculate recall and precision scores\n",
    "dtc_recall = recall_score(y_test, y_pred)\n",
    "dtc_precision = precision_score(y_test, y_pred)\n",
    "dtc_accuracy = accuracy_score(y_test, y_pred)\n",
    "\n",
    "print(\"Accuracy:\", dtc_accuracy)\n",
    "print(\"Score: \", dtc_score)\n",
    "print(\"Recall: \", dtc_recall)\n",
    "print(\"Precision: \", dtc_precision)"
   ]
  },
  {
   "cell_type": "markdown",
   "id": "d82ac6ef",
   "metadata": {},
   "source": [
    "### e) Logistic Regression"
   ]
  },
  {
   "cell_type": "code",
   "execution_count": 15,
   "id": "b44bda9e",
   "metadata": {},
   "outputs": [
    {
     "name": "stdout",
     "output_type": "stream",
     "text": [
      "Accuracy: 0.9284525790349417\n",
      "Score:  0.9284525790349417\n",
      "Recall:  0.5784313725490197\n",
      "Precision:  1.0\n"
     ]
    }
   ],
   "source": [
    "# import the class\n",
    "from sklearn.linear_model import LogisticRegression\n",
    "\n",
    "# instantiate the model (using the default parameters)\n",
    "logreg = LogisticRegression(solver='liblinear', penalty='l2',random_state=1)\n",
    "\n",
    "# fit the model with data\n",
    "logreg.fit(X_train, y_train)\n",
    "y_pred = logreg.predict(X_test)\n",
    "logreg_score=logreg.score(X_test, y_test)\n",
    "\n",
    "# Calculate recall and precision scores\n",
    "logreg_recall = recall_score(y_test, y_pred)\n",
    "logreg_precision = precision_score(y_test, y_pred)\n",
    "logreg_accuracy = accuracy_score(y_test, y_pred)\n",
    "\n",
    "print(\"Accuracy:\", logreg_accuracy)\n",
    "print(\"Score: \", logreg_score)\n",
    "print(\"Recall: \", logreg_recall)\n",
    "print(\"Precision: \", logreg_precision)"
   ]
  },
  {
   "cell_type": "markdown",
   "id": "a080f65e",
   "metadata": {},
   "source": [
    "### f) Random Forest"
   ]
  },
  {
   "cell_type": "code",
   "execution_count": 16,
   "id": "d4b9b12e",
   "metadata": {},
   "outputs": [
    {
     "name": "stdout",
     "output_type": "stream",
     "text": [
      "Accuracy: 0.9384359400998337\n",
      "Score:  0.9384359400998337\n",
      "Recall:  0.6372549019607843\n",
      "Precision:  1.0\n"
     ]
    }
   ],
   "source": [
    "# instantiate the model (using the default parameters)\n",
    "rf = RandomForestClassifier(random_state=1)\n",
    "rf.fit(X_train, y_train)\n",
    "\n",
    "# fit the model with data\n",
    "y_pred = rf.predict(X_test)\n",
    "rf_score=rf.score(X_test, y_test)\n",
    "\n",
    "# Calculate recall and precision scores\n",
    "rf_recall = recall_score(y_test, y_pred)\n",
    "rf_precision = precision_score(y_test, y_pred)\n",
    "rf_accuracy = accuracy_score(y_test, y_pred)\n",
    "\n",
    "print(\"Accuracy:\", rf_accuracy)\n",
    "print(\"Score: \", rf_score)\n",
    "print(\"Recall: \", rf_recall)\n",
    "print(\"Precision: \", rf_precision)"
   ]
  },
  {
   "cell_type": "markdown",
   "id": "2e7e07fe",
   "metadata": {},
   "source": [
    "It is important that the recall value is higher for the email spam algorithm. The Recall value indicates how much of all genuine spam emails we correctly classify as spam. Therefore, it is important to minimize false negative results in the spam filtering system, namely the error of classifying a spam email as non-spam. The Precision value, on the other hand, shows how many false positive results are, and it is important to minimize the error of classifying a non-spam email as spam. However, considering the fact that most e-mails will not be spam, recall is more important than precision.<br> <br> That's why, I choosed MultinomialNB Model with 0.75 Recall and 0.98 Precision."
   ]
  },
  {
   "cell_type": "markdown",
   "id": "fd66a063",
   "metadata": {},
   "source": [
    "## 7. Show the confusion matrix and the classification report of your best classifier on both the training and the test set."
   ]
  },
  {
   "cell_type": "code",
   "execution_count": 17,
   "id": "cc4cf552",
   "metadata": {},
   "outputs": [
    {
     "name": "stdout",
     "output_type": "stream",
     "text": [
      "Training Set Confusion Matrix:\n",
      "[[2001    1]\n",
      " [  77  322]]\n",
      "\n",
      "Training Set Classification Report:\n",
      "              precision    recall  f1-score   support\n",
      "\n",
      "         0.0       0.96      1.00      0.98      2002\n",
      "         1.0       1.00      0.81      0.89       399\n",
      "\n",
      "    accuracy                           0.97      2401\n",
      "   macro avg       0.98      0.90      0.94      2401\n",
      "weighted avg       0.97      0.97      0.97      2401\n",
      "\n",
      "Test Set Confusion Matrix:\n",
      "[[498   1]\n",
      " [ 25  77]]\n",
      "\n",
      "Test Set Classification Report:\n",
      "              precision    recall  f1-score   support\n",
      "\n",
      "         0.0       0.95      1.00      0.97       499\n",
      "         1.0       0.99      0.75      0.86       102\n",
      "\n",
      "    accuracy                           0.96       601\n",
      "   macro avg       0.97      0.88      0.92       601\n",
      "weighted avg       0.96      0.96      0.95       601\n",
      "\n"
     ]
    }
   ],
   "source": [
    "from sklearn.metrics import confusion_matrix, classification_report\n",
    "\n",
    "# Fit the best model on the training set\n",
    "nb.fit(X_train, y_train)\n",
    "\n",
    "# Generate predictions on the training and test sets\n",
    "y_train_pred = nb.predict(X_train)\n",
    "y_test_pred = nb.predict(X_test)\n",
    "\n",
    "# Generate the confusion matrix and classification report for the training set\n",
    "print(\"Training Set Confusion Matrix:\")\n",
    "print(confusion_matrix(y_train, y_train_pred))\n",
    "print(\"\\nTraining Set Classification Report:\")\n",
    "print(classification_report(y_train, y_train_pred))\n",
    "\n",
    "# Generate the confusion matrix and classification report for the test set\n",
    "print(\"Test Set Confusion Matrix:\")\n",
    "print(confusion_matrix(y_test, y_test_pred))\n",
    "print(\"\\nTest Set Classification Report:\")\n",
    "print(classification_report(y_test, y_test_pred))"
   ]
  },
  {
   "cell_type": "markdown",
   "id": "08ea0e3e",
   "metadata": {},
   "source": [
    "## 8. How does the size of the training set affect the classifier’s performance? Train your classifier with different training set sizes, and show the learning curve (test set error vs. training set size)."
   ]
  },
  {
   "cell_type": "code",
   "execution_count": 18,
   "id": "340c7183",
   "metadata": {},
   "outputs": [
    {
     "name": "stdout",
     "output_type": "stream",
     "text": [
      "Training Set Size: 100\n",
      "Test Set Error: 0.07236388697450036\n",
      "\n",
      "Training Set Size: 300\n",
      "Test Set Error: 0.061065877128053336\n",
      "\n",
      "Training Set Size: 500\n",
      "Test Set Error: 0.054756195043964784\n",
      "\n",
      "Training Set Size: 700\n",
      "Test Set Error: 0.05560382276281495\n",
      "\n",
      "Training Set Size: 900\n",
      "Test Set Error: 0.04804947668886772\n",
      "\n",
      "Training Set Size: 1100\n",
      "Test Set Error: 0.044689800210305\n",
      "\n",
      "Training Set Size: 1300\n",
      "Test Set Error: 0.042303172737955363\n",
      "\n",
      "Training Set Size: 1500\n",
      "Test Set Error: 0.04593874833555256\n",
      "\n",
      "Training Set Size: 1700\n",
      "Test Set Error: 0.04147465437788023\n",
      "\n",
      "Training Set Size: 1900\n",
      "Test Set Error: 0.042649727767695045\n",
      "\n",
      "Training Set Size: 2100\n",
      "Test Set Error: 0.04101995565410199\n",
      "\n",
      "Training Set Size: 2300\n",
      "Test Set Error: 0.03988603988603989\n",
      "\n",
      "Training Set Size: 2500\n",
      "Test Set Error: 0.03984063745019917\n",
      "\n",
      "Training Set Size: 2700\n",
      "Test Set Error: 0.039735099337748325\n",
      "\n"
     ]
    }
   ],
   "source": [
    "from sklearn.metrics import accuracy_score\n",
    "import numpy as np\n",
    "\n",
    "# Define different training set sizes\n",
    "train_sizes = np.arange(100, 2900, 200)\n",
    "\n",
    "# Initialize list to store test set errors for each training set size\n",
    "test_errors = []\n",
    "\n",
    "# Train classifier and calculate test set errors for each training set size\n",
    "for size in train_sizes:\n",
    "    X_train, X_test, y_train, y_test = train_test_split(features, data['class_'], train_size=size, random_state=1)\n",
    "    nb = MultinomialNB(alpha=0.01)\n",
    "    nb.fit(X_train, y_train)\n",
    "    \n",
    "    # Make predictions on the test set\n",
    "    y_pred = nb.predict(X_test)\n",
    "    score = accuracy_score(y_test, y_pred)\n",
    "    error = 1 - score  # Calculate test set error\n",
    "    test_errors.append(error)\n",
    "    print(\"Training Set Size:\", size)\n",
    "    print(\"Test Set Error:\", error)\n",
    "    print()"
   ]
  },
  {
   "cell_type": "markdown",
   "id": "af6c33b8",
   "metadata": {},
   "source": [
    "## Learning Curve"
   ]
  },
  {
   "cell_type": "code",
   "execution_count": 19,
   "id": "0e8a2d12",
   "metadata": {},
   "outputs": [
    {
     "data": {
      "image/png": "[encoded data removed]",
      "text/plain": [
       "<Figure size 640x480 with 1 Axes>"
      ]
     },
     "metadata": {},
     "output_type": "display_data"
    }
   ],
   "source": [
    "# Plot learning curve\n",
    "import matplotlib.pyplot as plt\n",
    "\n",
    "# Plot the learning curve\n",
    "plt.plot(train_sizes, test_errors)\n",
    "plt.xlabel('Training Set Size')\n",
    "plt.ylabel('Test Set Error')\n",
    "plt.title(\"Decision Tree Classifier Learning Curve\")\n",
    "plt.show()"
   ]
  },
  {
   "cell_type": "markdown",
   "id": "fc72d2c2",
   "metadata": {},
   "source": [
    "## 9. Find the 10 tokens that are most indicative of the spam class"
   ]
  },
  {
   "cell_type": "code",
   "execution_count": 20,
   "id": "3b069790",
   "metadata": {},
   "outputs": [
    {
     "name": "stdout",
     "output_type": "stream",
     "text": [
      "Top 10 most indicative features of spam class:\n",
      "['smokers' 'webcam' 'lenders' 'n9' 'kabila' 'prizemama' 'systemworks'\n",
      " 'reservedif' 'havereceived' 'netnoteinc']\n"
     ]
    },
    {
     "name": "stderr",
     "output_type": "stream",
     "text": [
      "/Users/omerkoc/opt/anaconda3/lib/python3.9/site-packages/sklearn/utils/deprecation.py:87: FutureWarning: Function get_feature_names is deprecated; get_feature_names is deprecated in 1.0 and will be removed in 1.2. Please use get_feature_names_out instead.\n",
      "  warnings.warn(msg, category=FutureWarning)\n"
     ]
    }
   ],
   "source": [
    "# Get the feature log probabilities from the trained Naive Bayes model\n",
    "feature_log_prob = nb.feature_log_prob_\n",
    "\n",
    "# Calculate the log ratios for each feature\n",
    "log_ratios = feature_log_prob[1] - feature_log_prob[0]\n",
    "\n",
    "# Get the indices of the top 10 features\n",
    "top_indices = np.argsort(log_ratios)[-10:]\n",
    "\n",
    "# Get the feature names corresponding to the top indices\n",
    "feature_names = np.array(vectorizer.get_feature_names())\n",
    "top_features = feature_names[top_indices]\n",
    "\n",
    "# Print the top 10 most indicative features\n",
    "print(\"Top 10 most indicative features of spam class:\")\n",
    "print(top_features)"
   ]
  },
  {
   "cell_type": "markdown",
   "id": "a7233371",
   "metadata": {},
   "source": [
    "## Thanks! "
   ]
  },
  {
   "cell_type": "code",
   "execution_count": null,
   "id": "d0135296",
   "metadata": {},
   "outputs": [],
   "source": []
  }
 ],
 "metadata": {
  "kernelspec": {
   "display_name": "Python 3 (ipykernel)",
   "language": "python",
   "name": "python3"
  },
  "language_info": {
   "codemirror_mode": {
    "name": "ipython",
    "version": 3
   },
   "file_extension": ".py",
   "mimetype": "text/x-python",
   "name": "python",
   "nbconvert_exporter": "python",
   "pygments_lexer": "ipython3",
   "version": "3.9.13"
  }
 },
 "nbformat": 4,
 "nbformat_minor": 5
}
